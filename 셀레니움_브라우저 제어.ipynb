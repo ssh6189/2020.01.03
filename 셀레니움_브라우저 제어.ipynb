{
 "cells": [
  {
   "cell_type": "code",
   "execution_count": 20,
   "metadata": {},
   "outputs": [],
   "source": [
    "from selenium import webdriver \n",
    "\n",
    "chrom_driver = webdriver.Chrome('C:/chromedriver_win32/chromedriver.exe')\n",
    "url = \"http://www.naver.com/\"\n",
    "# PhantomJS 드라이버 추출하기\n",
    "browser = webdriver.PhantomJS('C:/phantomjs-2.1.1-windows/phantomjs-2.1.1-windows/bin/phantomjs.exe')\n",
    "# 3초 대기하기\n",
    "browser.implicitly_wait(3)\n",
    "# URL 읽어 들이기 \n",
    "browser.get(url)\n",
    "# 화면을 캡처해서 저장하기\n",
    "browser.save_screenshot(\"C:/Users/student/Desktop/Website.png\")\n",
    "# 브라우저 종료하기\n",
    "browser.quit()\n"
   ]
  },
  {
   "cell_type": "code",
   "execution_count": 14,
   "metadata": {},
   "outputs": [],
   "source": [
    "####################Selenium Chrome Driver 사용 브라우저 제어 실습 ###########################\n",
    "from selenium import webdriver \n",
    "\n",
    "chrom_driver = webdriver.Chrome('C:/chromedriver_win32/chromedriver.exe')\n",
    "chrom_driver. implicitly_wait(3)\n",
    "chrom_driver.get(\"https://google.com\")\n",
    "chrom_driver.save_screenshot(\"./output/Website2.png\")\n",
    "chrom_driver.close()\n"
   ]
  },
  {
   "cell_type": "code",
   "execution_count": 24,
   "metadata": {},
   "outputs": [
    {
     "name": "stdout",
     "output_type": "stream",
     "text": [
      "https://www.python.org/\n",
      "Welcome to Python.org\n"
     ]
    }
   ],
   "source": [
    "#웹사이트를 이미지로 캡처\n",
    "from selenium import webdriver\n",
    "from selenium.webdriver.common.keys import Keys  #텍스트 외에 특수 키를 입력하기 위한 모듈\n",
    "# # chromedriver = 'C:/tutorial/chromedriver.exe'    # 드라이버 생성 방법1 (selenium)\n",
    "# driver = webdriver.Chrome(chromedriver)\n",
    "driver = webdriver.PhantomJS('C:/phantomjs-2.1.1-windows/phantomjs-2.1.1-windows/bin/phantomjs.exe') #드라이버 생성 방법2 (phantomJS)\n",
    "driver.get(\"http://www.python.org\")\n",
    "print (driver.current_url)\n",
    "print (driver.title)\n",
    "elem = driver.find_element_by_name(\"q\")\n",
    "# input 텍스트 초기화 \n",
    "elem.clear()\n",
    "# 키 이벤트 전송\n",
    "elem.send_keys(\"python\")\n",
    "# 엔터 입력\n",
    "elem.send_keys(Keys.RETURN)\n",
    "driver.set_window_size(1400, 1000)\n",
    "elem.screenshot(\"C:/Users/student/Desktop/pycon_event.png\") # 스크린샷도 찍기\n",
    "assert \"No results found.\" not in driver.page_source\n",
    "driver.quit()\n"
   ]
  },
  {
   "cell_type": "code",
   "execution_count": 32,
   "metadata": {},
   "outputs": [
    {
     "name": "stdout",
     "output_type": "stream",
     "text": [
      "150\n"
     ]
    }
   ],
   "source": [
    "from selenium import webdriver\n",
    "# PhantomJS 드라이버 추출하기\n",
    "browser = webdriver.PhantomJS('C:/phantomjs-2.1.1-windows/phantomjs-2.1.1-windows/bin/phantomjs.exe')\n",
    "browser.implicitly_wait(3)\n",
    "# 적당한 웹 페이지 열기\n",
    "# 자바스크립트 실행하기\n",
    "r = browser.execute_script(\"return 100 + 50\")\n",
    "print(r)\n"
   ]
  },
  {
   "cell_type": "code",
   "execution_count": null,
   "metadata": {},
   "outputs": [],
   "source": []
  }
 ],
 "metadata": {
  "kernelspec": {
   "display_name": "Python 3",
   "language": "python",
   "name": "python3"
  },
  "language_info": {
   "codemirror_mode": {
    "name": "ipython",
    "version": 3
   },
   "file_extension": ".py",
   "mimetype": "text/x-python",
   "name": "python",
   "nbconvert_exporter": "python",
   "pygments_lexer": "ipython3",
   "version": "3.7.5"
  }
 },
 "nbformat": 4,
 "nbformat_minor": 2
}
